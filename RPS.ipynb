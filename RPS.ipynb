{
 "cells": [
  {
   "cell_type": "markdown",
   "id": "57e1f5e2",
   "metadata": {},
   "source": [
    "# RPS (Rock, paper and scissor)\n",
    "\n",
    "Lately I’ve been using Rock, Paper, Scissors to decide who gets water, who does chores, and who risks their life opening the mystery container in the fridge.\n",
    "\n",
    "And I keep losing. Badly.\n",
    "\n",
    "So instead of just… you know… doing the chores, my brain went full engineer: What if I could statistically outsmart Rock, Paper, Scissors?\n",
    "\n",
    "Humans aren’t random—we fall into patterns. Which means, in theory, I could analyze those patterns, run the probabilities, maybe even write some code to predict moves. I’d rather spend three days buried in math, simulations, and debugging Python scripts than take out the trash for 30 seconds.\n",
    "\n",
    "It’s the most engineer thing ever: make the problem 10x harder, just to avoid ever having to deal with it again. Efficiency? No. Pride? Absolutely. "
   ]
  },
  {
   "cell_type": "code",
   "execution_count": 1,
   "id": "723e63e1",
   "metadata": {},
   "outputs": [],
   "source": [
    "# All the necessary libary for this project\n",
    "import random \n",
    "import pandas as pd \n",
    "import numpy as np "
   ]
  },
  {
   "cell_type": "code",
   "execution_count": 2,
   "id": "779f4855",
   "metadata": {},
   "outputs": [
    {
     "name": "stdout",
     "output_type": "stream",
     "text": [
      "p\n",
      "s\n",
      "r\n",
      "s\n",
      "s\n",
      "s\n",
      "s\n",
      "p\n",
      "p\n",
      "r\n"
     ]
    }
   ],
   "source": [
    "# Defining our choices : rock (r) , paper (p) and scissors (s)\n",
    "choices = ['r', 'p','s']\n",
    "\n",
    "# Computer randomly picks 10 times\n",
    "for i in range(10): \n",
    "    computer_choice = random.choice(choices)\n",
    "    print(computer_choice)"
   ]
  },
  {
   "cell_type": "markdown",
   "id": "7e2ef39b",
   "metadata": {},
   "source": []
  }
 ],
 "metadata": {
  "kernelspec": {
   "display_name": "base",
   "language": "python",
   "name": "python3"
  },
  "language_info": {
   "codemirror_mode": {
    "name": "ipython",
    "version": 3
   },
   "file_extension": ".py",
   "mimetype": "text/x-python",
   "name": "python",
   "nbconvert_exporter": "python",
   "pygments_lexer": "ipython3",
   "version": "3.12.11"
  }
 },
 "nbformat": 4,
 "nbformat_minor": 5
}
