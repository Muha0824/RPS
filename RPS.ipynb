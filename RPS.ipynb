{
 "cells": [
  {
   "cell_type": "code",
   "execution_count": 11,
   "id": "94b334bb",
   "metadata": {},
   "outputs": [],
   "source": [
    "# All the necessary libary for this project\n",
    "import random "
   ]
  },
  {
   "cell_type": "code",
   "execution_count": null,
   "id": "8fb219a0",
   "metadata": {},
   "outputs": [
    {
     "name": "stdout",
     "output_type": "stream",
     "text": [
      "p\n",
      "p\n",
      "r\n",
      "r\n",
      "p\n",
      "r\n",
      "s\n",
      "p\n",
      "s\n",
      "r\n"
     ]
    }
   ],
   "source": [
    "# Defining our choices : rock (r) , paper (p) and scissors (s)\n",
    "choices = ['r', 'p','s']\n",
    "\n",
    "# Computer randomly picks 10 times\n",
    "for i in range(10): \n",
    "    computer_choice = random.choice(choices)\n",
    "    print(computer_choice)\n",
    "    \n"
   ]
  }
 ],
 "metadata": {
  "kernelspec": {
   "display_name": "base",
   "language": "python",
   "name": "python3"
  },
  "language_info": {
   "codemirror_mode": {
    "name": "ipython",
    "version": 3
   },
   "file_extension": ".py",
   "mimetype": "text/x-python",
   "name": "python",
   "nbconvert_exporter": "python",
   "pygments_lexer": "ipython3",
   "version": "3.13.5"
  }
 },
 "nbformat": 4,
 "nbformat_minor": 5
}
